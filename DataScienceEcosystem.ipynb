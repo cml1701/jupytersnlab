{
 "cells": [
  {
   "cell_type": "markdown",
   "id": "7aacbad6-bdf2-4048-aa1f-dd3595051273",
   "metadata": {},
   "source": [
    "# Data Science Tools and Ecosystem"
   ]
  },
  {
   "cell_type": "markdown",
   "id": "d8273175-1119-431c-8e41-7abf060d09ff",
   "metadata": {},
   "source": [
    "In this notebook, Data Science Tools and Ecosystem are summarized."
   ]
  },
  {
   "cell_type": "markdown",
   "id": "d4398eae-1433-413b-9f88-bcc62bad42ef",
   "metadata": {},
   "source": [
    "**Objectives:**\n",
    "- List popular languages for Data Science\n",
    "- List commonly used libraries for Data Science\n",
    "- Evaluate arithmetic expressions in Python"
   ]
  },
  {
   "cell_type": "markdown",
   "id": "1badf500-a2b3-4f78-b175-e596d269481b",
   "metadata": {},
   "source": [
    "Some of the popular languages that Data Scientists use are:\n",
    "1. R\n",
    "2. Python\n",
    "3. SQL\n",
    "4. C++\n",
    "5. Java"
   ]
  },
  {
   "cell_type": "markdown",
   "id": "7ebb844d-82d7-4029-a2d9-13c0397b8879",
   "metadata": {},
   "source": [
    "Some of the commonly used libraries used by Data Scientists include:\n",
    "1. Scikit-learn\n",
    "2. TensorFlow\n",
    "3. Apache Spark"
   ]
  },
  {
   "cell_type": "markdown",
   "id": "1226c90c-3898-4304-a076-3d40c8d37c31",
   "metadata": {},
   "source": [
    "Data Science Tools |\n",
    "----- |\n",
    "MySQL |\n",
    "Hadoop File System |\n",
    "Apache CouchDB |\n"
   ]
  },
  {
   "cell_type": "markdown",
   "id": "a82435b3-c4e8-4172-9197-3870d7baf898",
   "metadata": {},
   "source": [
    "### Below are a few examples of evaluating arithmetic expressions in Python."
   ]
  },
  {
   "cell_type": "markdown",
   "id": "a2a5dfea-5d93-4818-a8fe-15bfcb039836",
   "metadata": {},
   "source": [
    "This is a simple arithmetic expression to multiply then add integers."
   ]
  },
  {
   "cell_type": "code",
   "execution_count": 1,
   "id": "516ea2d2-f47b-4edd-9832-93b1dd191266",
   "metadata": {
    "tags": []
   },
   "outputs": [
    {
     "data": {
      "text/plain": [
       "17"
      ]
     },
     "execution_count": 1,
     "metadata": {},
     "output_type": "execute_result"
    }
   ],
   "source": [
    "(3*4)+5"
   ]
  },
  {
   "cell_type": "markdown",
   "id": "81c0423b-7d80-4c47-8cb6-71dfd794d9c5",
   "metadata": {},
   "source": [
    "This will convert 200 minutes into hours by dividing by 60."
   ]
  },
  {
   "cell_type": "code",
   "execution_count": 3,
   "id": "6d555e88-a014-4045-9540-2b1f20aa75d4",
   "metadata": {
    "tags": []
   },
   "outputs": [
    {
     "data": {
      "text/plain": [
       "3.3333333333333335"
      ]
     },
     "execution_count": 3,
     "metadata": {},
     "output_type": "execute_result"
    }
   ],
   "source": [
    "200/60"
   ]
  },
  {
   "cell_type": "markdown",
   "id": "3f8daf19-0945-49b9-a9f6-aa78d1197819",
   "metadata": {},
   "source": [
    "## Author\n",
    "Cody Leonard"
   ]
  },
  {
   "cell_type": "code",
   "execution_count": null,
   "id": "ccb13cd7-d46a-4117-ad0a-889af44a7302",
   "metadata": {},
   "outputs": [],
   "source": []
  }
 ],
 "metadata": {
  "kernelspec": {
   "display_name": "Python",
   "language": "python",
   "name": "conda-env-python-py"
  },
  "language_info": {
   "codemirror_mode": {
    "name": "ipython",
    "version": 3
   },
   "file_extension": ".py",
   "mimetype": "text/x-python",
   "name": "python",
   "nbconvert_exporter": "python",
   "pygments_lexer": "ipython3",
   "version": "3.7.12"
  }
 },
 "nbformat": 4,
 "nbformat_minor": 5
}
